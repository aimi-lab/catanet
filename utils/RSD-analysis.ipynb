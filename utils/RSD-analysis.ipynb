{
 "cells": [
  {
   "cell_type": "code",
   "execution_count": null,
   "metadata": {},
   "outputs": [],
   "source": [
    "import csv\n",
    "import os\n",
    "import matplotlib.pyplot as plt\n",
    "import numpy as np\n",
    "import pandas as pd\n",
    "\n",
    "def addRSDfromcsvFile(rsdlist, csvfilepath):\n",
    "    with open(csvfilepath, newline='') as csvfile:\n",
    "        csvreader = csv.reader(csvfile, delimiter=' ', quotechar='|')\n",
    "        header = True\n",
    "        for row in csvreader:\n",
    "            if header:\n",
    "                header = False\n",
    "                continue\n",
    "            start = row[0].split(',')[1]\n",
    "            end = row[0].split(',')[2]\n",
    "            start_mins = int(start.split(':')[0]) + float(start.split(':')[1])/60 \n",
    "            end_mins = int(end.split(':')[0]) + float(end.split(':')[1])/60\n",
    "            rsdlist.append(end_mins-start_mins)\n",
    "\n",
    "cataract101path = '/home/ubelix/artorg/shared/for_andres/cataract101'\n",
    "cataracts101RSDs = []\n",
    "\n",
    "for filename in os.listdir(cataract101path):\n",
    "    if filename.endswith('.csv'):\n",
    "        rsd = pd.read_csv(cataract101path + '/' + filename)['rsd'][0]\n",
    "        cataracts101RSDs.append(rsd/25/60)\n",
    "\n",
    "baselpath = '/home/ubelix/artorg/shared/for_andres/basel'\n",
    "baselRSDs = []\n",
    "addRSDfromcsvFile(baselRSDs, baselpath + '/' + 'start_end_labels.csv')\n",
    "\n",
    "cataractsTestRSDs = []\n",
    "addRSDfromcsvFile(cataractsTestRSDs, '/home/ubelix/artorg/shared/for_andres/CATARACTs/test/start_end_labels.csv')\n",
    "\n",
    "cataractsTrainPath = '/home/ubelix/artorg/shared/for_andres/CATARACTs/train/'\n",
    "cataractsTrainRSDs = []\n",
    "\n",
    "for filename in os.listdir(cataractsTrainPath):\n",
    "    if filename.endswith('.csv'):\n",
    "        with open(cataractsTrainPath + '/' + filename, newline='') as csvfile:\n",
    "            label = pd.read_csv(csvfile)['Steps'].to_numpy()            \n",
    "            start_frame = np.min(np.where((np.diff(label, prepend=0) != 0) & (label == 3))[0])\n",
    "            end_frame = np.max(np.where((np.diff(label, prepend=0) != 0) & (label == 0))[0])\n",
    "            cataractsTrainRSDs.append((end_frame-start_frame)/60/25)"
   ]
  },
  {
   "cell_type": "code",
   "execution_count": null,
   "metadata": {},
   "outputs": [],
   "source": [
    "data = pd.DataFrame(columns=[\"dataset\", \"min RSD\", \"mean RSD\", \"median RSD\", \"std RSD\", \"max RSD\"])\n",
    "\n",
    "data = data.append({\"dataset\": \"cataract101\", \"min RSD\": np.min(cataracts101RSDs), \"mean RSD\": np.mean(cataracts101RSDs), \"median RSD\": np.median(cataracts101RSDs), \"std RSD\": np.std(cataracts101RSDs), \"max RSD\": np.max(cataracts101RSDs)}, ignore_index=True)\n",
    "data = data.append({\"dataset\": \"Basel\", \"min RSD\": np.min(baselRSDs), \"mean RSD\": np.mean(baselRSDs), \"median RSD\": np.median(baselRSDs), \"std RSD\": np.std(baselRSDs), \"max RSD\": np.max(baselRSDs)}, ignore_index=True)\n",
    "data = data.append({\"dataset\": \"cataracts train\", \"min RSD\": np.min(cataractsTrainRSDs), \"mean RSD\": np.mean(cataractsTrainRSDs), \"median RSD\": np.median(cataractsTrainRSDs), \"std RSD\": np.std(cataractsTrainRSDs), \"max RSD\": np.max(cataractsTrainRSDs)}, ignore_index=True)\n",
    "data = data.append({\"dataset\": \"cataracts test\", \"min RSD\": np.min(cataractsTestRSDs), \"mean RSD\": np.mean(cataractsTestRSDs), \"median RSD\": np.median(cataractsTestRSDs), \"std RSD\": np.std(cataractsTestRSDs), \"max RSD\": np.max(cataractsTestRSDs)}, ignore_index=True)\n",
    "\n",
    "print(data)"
   ]
  },
  {
   "cell_type": "code",
   "execution_count": null,
   "metadata": {},
   "outputs": [],
   "source": [
    "n, bins, patches = plt.hist(x=cataracts101RSDs, bins=8, color='#0504aa',\n",
    "                            alpha=0.7, rwidth=0.85)\n",
    "plt.grid(axis='y', alpha=0.75)\n",
    "plt.xlabel('RSD')\n",
    "plt.ylabel('Count')\n",
    "plt.title('cataract101')\n",
    "plt.savefig('hist_cataract101.png')\n"
   ]
  },
  {
   "cell_type": "code",
   "execution_count": null,
   "metadata": {},
   "outputs": [],
   "source": [
    "n, bins, patches = plt.hist(x=baselRSDs, bins=8, color='#0504aa',\n",
    "                            alpha=0.7, rwidth=0.85)\n",
    "plt.grid(axis='y', alpha=0.75)\n",
    "plt.xlabel('RSD')\n",
    "plt.ylabel('Count')\n",
    "plt.title('Basel')\n",
    "plt.savefig('hist_Basel.png')\n"
   ]
  },
  {
   "cell_type": "code",
   "execution_count": null,
   "metadata": {},
   "outputs": [],
   "source": [
    "n, bins, patches = plt.hist(x=cataractsTrainRSDs, bins=8, color='#0504aa',\n",
    "                            alpha=0.7, rwidth=0.85)\n",
    "plt.grid(axis='y', alpha=0.75)\n",
    "plt.xlabel('RSD')\n",
    "plt.ylabel('Count')\n",
    "plt.title('Cataracts train')\n",
    "\n",
    "plt.savefig('hist_cataracts_train.png')"
   ]
  },
  {
   "cell_type": "code",
   "execution_count": null,
   "metadata": {},
   "outputs": [],
   "source": [
    "n, bins, patches = plt.hist(x=cataractsTestRSDs, bins=8, color='#0504aa',\n",
    "                            alpha=0.7, rwidth=0.85)\n",
    "plt.grid(axis='y', alpha=0.75)\n",
    "plt.xlabel('RSD')\n",
    "plt.ylabel('Count')\n",
    "plt.title('Cataracts test')\n",
    "\n",
    "plt.savefig('hist_cataracts_test.png')"
   ]
  },
  {
   "cell_type": "code",
   "execution_count": null,
   "metadata": {},
   "outputs": [],
   "source": [
    "import seaborn as sns\n",
    "\n",
    "sns.set_style('darkgrid')\n",
    "sns.distplot(cataracts101RSDs)"
   ]
  },
  {
   "cell_type": "code",
   "execution_count": null,
   "metadata": {},
   "outputs": [],
   "source": []
  },
  {
   "cell_type": "code",
   "execution_count": null,
   "metadata": {},
   "outputs": [],
   "source": []
  }
 ],
 "metadata": {
  "kernelspec": {
   "display_name": "torch-2",
   "language": "python",
   "name": "torch-2"
  },
  "language_info": {
   "codemirror_mode": {
    "name": "ipython",
    "version": 3
   },
   "file_extension": ".py",
   "mimetype": "text/x-python",
   "name": "python",
   "nbconvert_exporter": "python",
   "pygments_lexer": "ipython3",
   "version": "3.8.5"
  }
 },
 "nbformat": 4,
 "nbformat_minor": 4
}
